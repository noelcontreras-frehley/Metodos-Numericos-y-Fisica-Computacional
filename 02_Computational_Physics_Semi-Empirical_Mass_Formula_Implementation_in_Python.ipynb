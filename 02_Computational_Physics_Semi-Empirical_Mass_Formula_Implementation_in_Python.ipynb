{
 "cells": [
  {
   "cell_type": "markdown",
   "id": "da12485f-e586-4598-8324-4a23e14e5792",
   "metadata": {},
   "source": [
    "## Tarea-Practica 2. Noel Alejandro Contreras Acosta"
   ]
  },
  {
   "cell_type": "markdown",
   "id": "5abe5628-e8eb-47dc-b9ae-373ba2976845",
   "metadata": {},
   "source": [
    "### 1. La fórmula semiempírica de la masa (FSM) En física nuclear, la fórmula de Weizs ̈acker (conocida también como \n",
    "### fórmula semiempírica) sirve para evaluar la masa y otras propiedades de un nucleo atómico; y está basada \n",
    "### parcialmente en mediciones empíricas. En particular la formula se usa para calcular la  ́energíade enlace \n",
    "### nuclear aproximada B, de un nucleo atómico con número atómico Z y número de masa A:\n",
    "$$\n",
    "B=a_1A-a_2A^{2/3}-a_3\\frac{Z^2}{A^{1/3}}-a_4\\frac{(A-2Z)^2}{A}+\\frac{a_5}{A^{1/2}}\n",
    "$$\n",
    "### donde, en unidades de millones de electron-volts, las constantes son a_1 = 15,8, a_2 = 18,3, a3 = 0,714, a4 = 23,2 y\n",
    "$$\n",
    "a_5 =\n",
    "\\begin{cases}\n",
    "0, & \\text{si } A \\text{ es impar}, \\\\\n",
    "12.0, & \\text{si } A \\text{ y } Z \\text{ son pares (ambos)}, \\\\\n",
    "-12.0, & \\text{si } A \\text{ es par y } Z \\text{ impar}.\n",
    "\\end{cases}\n",
    "$$\n",
    "\n",
    "#### a) Escribe un programa que tome como entrada los valores de A y Z, e imprima la energía de enlace B para el átomo correspondiente. Usa tu \n",
    "#### programa para encontrar la energía de enlace de un átomo con A = 58 y Z = 28 (Hint: La respuesta correcta es alrededor de los 490 MeV)."
   ]
  },
  {
   "cell_type": "code",
   "execution_count": 48,
   "id": "f6afc12d-e155-4a4f-b6e3-28994533a33d",
   "metadata": {},
   "outputs": [],
   "source": [
    "a1,a2,a3,a4=15.8,18.3,0.714,23.2 #las unidades son MeV\n",
    "#la función creada aquí pide como argumentos los valores de A y Z, y calcula e imprime el valor de B.\n",
    "def energia_B(A, Z):\n",
    "    if A%2==1:\n",
    "        a5=0\n",
    "    elif A%2==0 and Z%2==0:\n",
    "        a5=12\n",
    "    elif A%2==0 and Z%2==1:\n",
    "        a5=-12\n",
    "    B= a1*A-a2*A**(2/3)-(a3*Z*Z)/A**(1/3)-(a4*(A-2*Z)**2)/A+a5/A**(1/2)\n",
    "    print('La energía de enlace nuclear es',B, 'MeV')"
   ]
  },
  {
   "cell_type": "code",
   "execution_count": 3,
   "id": "29f48b06-27ff-498c-9ce2-99373ce6377b",
   "metadata": {},
   "outputs": [
    {
     "name": "stdout",
     "output_type": "stream",
     "text": [
      "La energía de enlace nuclear es 497.5620206224374 MeV\n"
     ]
    }
   ],
   "source": [
    "#Prueba para A=58 y Z=28\n",
    "energia_B(58,28)\n",
    "\n",
    "#El resultado fue de 497.5620206224374 MeV"
   ]
  },
  {
   "cell_type": "markdown",
   "id": "902b7e07-2b7d-4e46-ada2-6ecadbd12960",
   "metadata": {},
   "source": [
    "#### b) Modifica el programa del inciso anterior, para escribir una segunda version que  ́imprima no la energía de \n",
    "#### enlace total B, sino la energía de unión por nucleón, que es B/A."
   ]
  },
  {
   "cell_type": "code",
   "execution_count": 5,
   "id": "49353dfa-f910-4233-8bbf-27748f590b3f",
   "metadata": {},
   "outputs": [
    {
     "name": "stdin",
     "output_type": "stream",
     "text": [
      "Ingrese el valor de A:  58\n",
      "Ingrese el valor de Z:  28\n"
     ]
    },
    {
     "name": "stdout",
     "output_type": "stream",
     "text": [
      "La energía de unión por nucleón es  8.578655527973059 MeV\n"
     ]
    }
   ],
   "source": [
    "def energia_nucleon(A, Z):\n",
    "    if A%2==1:\n",
    "        a5=0\n",
    "    elif A%2==0 and Z%2==0:\n",
    "        a5=12\n",
    "    elif A%2==0 and Z%2==1:\n",
    "        a5=-12\n",
    "    B= a1*A-a2*A**(2/3)-(a3*Z*Z)/A**(1/3)-(a4*(A-2*Z)**2)/A+a5/A**(1/2)\n",
    "    x=B/A\n",
    "    print('La energía de unión por nucleón es ',x, 'MeV')\n",
    "\n",
    "A=int(input('Ingrese el valor de A: '))\n",
    "Z=int(input('Ingrese el valor de Z: '))\n",
    "energia_nucleon(A,Z)"
   ]
  },
  {
   "cell_type": "markdown",
   "id": "87225da2-c1a6-4d6d-bf39-a31d25fca3cf",
   "metadata": {},
   "source": [
    "#### c) Escribe una tercera versión del programa para que tome como entrada solo un valor del numero atómico Z y luego pase\n",
    "#### por todos los valores de A desde A = Z hasta A = 3Z, para encontrar el que tiene la mayor energía de enlace por nucleon.\n",
    "#### Este es el nucleo más estable con el número atómico dado. Haz que tu programa imprima el valor de A para este nucleo \n",
    "#### más estable y el valor de la energía de enlace por nucleón."
   ]
  },
  {
   "cell_type": "code",
   "execution_count": 9,
   "id": "22046700-af73-4c75-8e27-3f34c0766017",
   "metadata": {},
   "outputs": [
    {
     "name": "stdin",
     "output_type": "stream",
     "text": [
      "Ingresa el valor de número atómico Z:  28\n"
     ]
    },
    {
     "name": "stdout",
     "output_type": "stream",
     "text": [
      "El valor de A para este núcleo más estable es 62, y el valor de la energía de enlace por nucleón es 8.70245768367189\n"
     ]
    }
   ],
   "source": [
    "def energia_max(Z):\n",
    "    energias=[] #lista vacia\n",
    "    for A in range(Z,3*Z+1): #Aquí se recorre los valores de A entre Z y 3Z y,  dependiendo de si A es par, impar (lo mismo para Z), \n",
    "        if A%2==1:           #es el valor de B que nos calcula y por ende el de enuc.\n",
    "            a5=0\n",
    "        elif A%2==0 and Z%2==0:\n",
    "            a5=12\n",
    "        elif A%2==0 and Z%2==1:\n",
    "            a5=-12\n",
    "        B= a1*A-a2*A**(2/3)-(a3*Z*Z)/A**(1/3)-(a4*(A-2*Z)**2)/A+a5/A**(1/2)\n",
    "        enuc=B/A\n",
    "        energias.append((A, enuc)) #a la lista vacía se le van agregando tuplas de (A, enuc) por cada iteración.\n",
    "    maxA, maxEnergia = max(energias, key=lambda x: x[1]) #aquí se busca el máximo de cada tupla, tomando para esto a enuc  como el parámetro.\n",
    "                                                         #además de asociar la A que corresponda a ese valor máximo y se define como maxA\n",
    "    print(f'El valor de A para este núcleo más estable es {maxA}, y el valor de la energía de enlace por nucleón es {maxEnergia}')\n",
    "\n",
    "\n",
    "Z=int(input('Ingresa el valor de número atómico Z: '))\n",
    "energia_max(Z)\n",
    "        \n",
    "        \n",
    "        "
   ]
  },
  {
   "cell_type": "markdown",
   "id": "eb269be6-048c-4515-9c6e-e0c81e130518",
   "metadata": {},
   "source": [
    "#### d) Finalmente, escribe una cuarta versión del programa que, en lugar de tomar Z como entrada, se ejecute a través de todos los valores \n",
    "#### de Z de 1 a 100 e imprima el valor mas estable de A para cada uno. ¿A qué valor de Z se produce la energÍa de enlace máxima por nucleón\n",
    "#### (La respuesta correcta, en la vida real, es Z = 28, que corresponde al N ́ıquel)."
   ]
  },
  {
   "cell_type": "code",
   "execution_count": 11,
   "id": "e90278ef-3965-454d-b104-2237854b6479",
   "metadata": {},
   "outputs": [
    {
     "name": "stdout",
     "output_type": "stream",
     "text": [
      "Para un núcleo con número atómico 1 El valor de A que lo hace más estable es 3,y el valor de la energía de enlace por nucleón es 0.36869091831015793.\n",
      "Para un núcleo con número atómico 2 El valor de A que lo hace más estable es 4,y el valor de la energía de enlace por nucleón es 5.321930578649441.\n",
      "Para un núcleo con número atómico 3 El valor de A que lo hace más estable es 4,y el valor de la energía de enlace por nucleón es 5.321930578649441.\n",
      "Para un núcleo con número atómico 4 El valor de A que lo hace más estable es 8,y el valor de la energía de enlace por nucleón es 6.466330085889912.\n",
      "Para un núcleo con número atómico 5 El valor de A que lo hace más estable es 11,y el valor de la energía de enlace por nucleón es 6.650123444727665.\n",
      "Para un núcleo con número atómico 6 El valor de A que lo hace más estable es 14,y el valor de la energía de enlace por nucleón es 7.200918138809924.\n",
      "Para un núcleo con número atómico 7 El valor de A que lo hace más estable es 15,y el valor de la energía de enlace por nucleón es 7.330860591990982.\n",
      "Para un núcleo con número atómico 8 El valor de A que lo hace más estable es 18,y el valor de la energía de enlace por nucleón es 7.719275577459026.\n",
      "Para un núcleo con número atómico 9 El valor de A que lo hace más estable es 19,y el valor de la energía de enlace por nucleón es 7.73697768275634.\n",
      "Para un núcleo con número atómico 10 El valor de A que lo hace más estable es 22,y el valor de la energía de enlace por nucleón es 8.035350864715019.\n",
      "Para un núcleo con número atómico 11 El valor de A que lo hace más estable es 22,y el valor de la energía de enlace por nucleón es 8.035350864715019.\n",
      "Para un núcleo con número atómico 12 El valor de A que lo hace más estable es 26,y el valor de la energía de enlace por nucleón es 8.241172535624845.\n",
      "Para un núcleo con número atómico 13 El valor de A que lo hace más estable es 26,y el valor de la energía de enlace por nucleón es 8.241172535624845.\n",
      "Para un núcleo con número atómico 14 El valor de A que lo hace más estable es 30,y el valor de la energía de enlace por nucleón es 8.37916169002579.\n",
      "Para un núcleo con número atómico 15 El valor de A que lo hace más estable es 33,y el valor de la energía de enlace por nucleón es 8.38521415855582.\n",
      "Para un núcleo con número atómico 16 El valor de A que lo hace más estable es 36,y el valor de la energía de enlace por nucleón es 8.489230168218935.\n",
      "Para un núcleo con número atómico 17 El valor de A que lo hace más estable es 36,y el valor de la energía de enlace por nucleón es 8.489230168218935.\n",
      "Para un núcleo con número atómico 18 El valor de A que lo hace más estable es 40,y el valor de la energía de enlace por nucleón es 8.573405285254953.\n",
      "Para un núcleo con número atómico 19 El valor de A que lo hace más estable es 40,y el valor de la energía de enlace por nucleón es 8.573405285254953.\n",
      "Para un núcleo con número atómico 20 El valor de A que lo hace más estable es 44,y el valor de la energía de enlace por nucleón es 8.627152167121634.\n",
      "Para un núcleo con número atómico 21 El valor de A que lo hace más estable es 44,y el valor de la energía de enlace por nucleón es 8.627152167121634.\n",
      "Para un núcleo con número atómico 22 El valor de A que lo hace más estable es 48,y el valor de la energía de enlace por nucleón es 8.6585154571142.\n",
      "Para un núcleo con número atómico 23 El valor de A que lo hace más estable es 48,y el valor de la energía de enlace por nucleón es 8.6585154571142.\n",
      "Para un núcleo con número atómico 24 El valor de A que lo hace más estable es 54,y el valor de la energía de enlace por nucleón es 8.687306583887372.\n",
      "Para un núcleo con número atómico 25 El valor de A que lo hace más estable es 54,y el valor de la energía de enlace por nucleón es 8.687306583887372.\n",
      "Para un núcleo con número atómico 26 El valor de A que lo hace más estable es 58,y el valor de la energía de enlace por nucleón es 8.701432576808985.\n",
      "Para un núcleo con número atómico 27 El valor de A que lo hace más estable es 58,y el valor de la energía de enlace por nucleón es 8.701432576808985.\n",
      "Para un núcleo con número atómico 28 El valor de A que lo hace más estable es 62,y el valor de la energía de enlace por nucleón es 8.70245768367189.\n",
      "Para un núcleo con número atómico 29 El valor de A que lo hace más estable es 62,y el valor de la energía de enlace por nucleón es 8.70245768367189.\n",
      "Para un núcleo con número atómico 30 El valor de A que lo hace más estable es 62,y el valor de la energía de enlace por nucleón es 8.70245768367189.\n",
      "Para un núcleo con número atómico 31 El valor de A que lo hace más estable es 62,y el valor de la energía de enlace por nucleón es 8.70245768367189.\n",
      "Para un núcleo con número atómico 32 El valor de A que lo hace más estable es 62,y el valor de la energía de enlace por nucleón es 8.70245768367189.\n",
      "Para un núcleo con número atómico 33 El valor de A que lo hace más estable es 62,y el valor de la energía de enlace por nucleón es 8.70245768367189.\n",
      "Para un núcleo con número atómico 34 El valor de A que lo hace más estable es 62,y el valor de la energía de enlace por nucleón es 8.70245768367189.\n",
      "Para un núcleo con número atómico 35 El valor de A que lo hace más estable es 62,y el valor de la energía de enlace por nucleón es 8.70245768367189.\n",
      "Para un núcleo con número atómico 36 El valor de A que lo hace más estable es 62,y el valor de la energía de enlace por nucleón es 8.70245768367189.\n",
      "Para un núcleo con número atómico 37 El valor de A que lo hace más estable es 62,y el valor de la energía de enlace por nucleón es 8.70245768367189.\n",
      "Para un núcleo con número atómico 38 El valor de A que lo hace más estable es 62,y el valor de la energía de enlace por nucleón es 8.70245768367189.\n",
      "Para un núcleo con número atómico 39 El valor de A que lo hace más estable es 62,y el valor de la energía de enlace por nucleón es 8.70245768367189.\n",
      "Para un núcleo con número atómico 40 El valor de A que lo hace más estable es 62,y el valor de la energía de enlace por nucleón es 8.70245768367189.\n",
      "Para un núcleo con número atómico 41 El valor de A que lo hace más estable es 62,y el valor de la energía de enlace por nucleón es 8.70245768367189.\n",
      "Para un núcleo con número atómico 42 El valor de A que lo hace más estable es 62,y el valor de la energía de enlace por nucleón es 8.70245768367189.\n",
      "Para un núcleo con número atómico 43 El valor de A que lo hace más estable es 62,y el valor de la energía de enlace por nucleón es 8.70245768367189.\n",
      "Para un núcleo con número atómico 44 El valor de A que lo hace más estable es 62,y el valor de la energía de enlace por nucleón es 8.70245768367189.\n",
      "Para un núcleo con número atómico 45 El valor de A que lo hace más estable es 62,y el valor de la energía de enlace por nucleón es 8.70245768367189.\n",
      "Para un núcleo con número atómico 46 El valor de A que lo hace más estable es 62,y el valor de la energía de enlace por nucleón es 8.70245768367189.\n",
      "Para un núcleo con número atómico 47 El valor de A que lo hace más estable es 62,y el valor de la energía de enlace por nucleón es 8.70245768367189.\n",
      "Para un núcleo con número atómico 48 El valor de A que lo hace más estable es 62,y el valor de la energía de enlace por nucleón es 8.70245768367189.\n",
      "Para un núcleo con número atómico 49 El valor de A que lo hace más estable es 62,y el valor de la energía de enlace por nucleón es 8.70245768367189.\n",
      "Para un núcleo con número atómico 50 El valor de A que lo hace más estable es 62,y el valor de la energía de enlace por nucleón es 8.70245768367189.\n",
      "Para un núcleo con número atómico 51 El valor de A que lo hace más estable es 62,y el valor de la energía de enlace por nucleón es 8.70245768367189.\n",
      "Para un núcleo con número atómico 52 El valor de A que lo hace más estable es 62,y el valor de la energía de enlace por nucleón es 8.70245768367189.\n",
      "Para un núcleo con número atómico 53 El valor de A que lo hace más estable es 62,y el valor de la energía de enlace por nucleón es 8.70245768367189.\n",
      "Para un núcleo con número atómico 54 El valor de A que lo hace más estable es 62,y el valor de la energía de enlace por nucleón es 8.70245768367189.\n",
      "Para un núcleo con número atómico 55 El valor de A que lo hace más estable es 62,y el valor de la energía de enlace por nucleón es 8.70245768367189.\n",
      "Para un núcleo con número atómico 56 El valor de A que lo hace más estable es 62,y el valor de la energía de enlace por nucleón es 8.70245768367189.\n",
      "Para un núcleo con número atómico 57 El valor de A que lo hace más estable es 62,y el valor de la energía de enlace por nucleón es 8.70245768367189.\n",
      "Para un núcleo con número atómico 58 El valor de A que lo hace más estable es 62,y el valor de la energía de enlace por nucleón es 8.70245768367189.\n",
      "Para un núcleo con número atómico 59 El valor de A que lo hace más estable es 62,y el valor de la energía de enlace por nucleón es 8.70245768367189.\n",
      "Para un núcleo con número atómico 60 El valor de A que lo hace más estable es 62,y el valor de la energía de enlace por nucleón es 8.70245768367189.\n",
      "Para un núcleo con número atómico 61 El valor de A que lo hace más estable es 62,y el valor de la energía de enlace por nucleón es 8.70245768367189.\n",
      "Para un núcleo con número atómico 62 El valor de A que lo hace más estable es 62,y el valor de la energía de enlace por nucleón es 8.70245768367189.\n",
      "Para un núcleo con número atómico 63 El valor de A que lo hace más estable es 62,y el valor de la energía de enlace por nucleón es 8.70245768367189.\n",
      "Para un núcleo con número atómico 64 El valor de A que lo hace más estable es 62,y el valor de la energía de enlace por nucleón es 8.70245768367189.\n",
      "Para un núcleo con número atómico 65 El valor de A que lo hace más estable es 62,y el valor de la energía de enlace por nucleón es 8.70245768367189.\n",
      "Para un núcleo con número atómico 66 El valor de A que lo hace más estable es 62,y el valor de la energía de enlace por nucleón es 8.70245768367189.\n",
      "Para un núcleo con número atómico 67 El valor de A que lo hace más estable es 62,y el valor de la energía de enlace por nucleón es 8.70245768367189.\n",
      "Para un núcleo con número atómico 68 El valor de A que lo hace más estable es 62,y el valor de la energía de enlace por nucleón es 8.70245768367189.\n",
      "Para un núcleo con número atómico 69 El valor de A que lo hace más estable es 62,y el valor de la energía de enlace por nucleón es 8.70245768367189.\n",
      "Para un núcleo con número atómico 70 El valor de A que lo hace más estable es 62,y el valor de la energía de enlace por nucleón es 8.70245768367189.\n",
      "Para un núcleo con número atómico 71 El valor de A que lo hace más estable es 62,y el valor de la energía de enlace por nucleón es 8.70245768367189.\n",
      "Para un núcleo con número atómico 72 El valor de A que lo hace más estable es 62,y el valor de la energía de enlace por nucleón es 8.70245768367189.\n",
      "Para un núcleo con número atómico 73 El valor de A que lo hace más estable es 62,y el valor de la energía de enlace por nucleón es 8.70245768367189.\n",
      "Para un núcleo con número atómico 74 El valor de A que lo hace más estable es 62,y el valor de la energía de enlace por nucleón es 8.70245768367189.\n",
      "Para un núcleo con número atómico 75 El valor de A que lo hace más estable es 62,y el valor de la energía de enlace por nucleón es 8.70245768367189.\n",
      "Para un núcleo con número atómico 76 El valor de A que lo hace más estable es 62,y el valor de la energía de enlace por nucleón es 8.70245768367189.\n",
      "Para un núcleo con número atómico 77 El valor de A que lo hace más estable es 62,y el valor de la energía de enlace por nucleón es 8.70245768367189.\n",
      "Para un núcleo con número atómico 78 El valor de A que lo hace más estable es 62,y el valor de la energía de enlace por nucleón es 8.70245768367189.\n",
      "Para un núcleo con número atómico 79 El valor de A que lo hace más estable es 62,y el valor de la energía de enlace por nucleón es 8.70245768367189.\n",
      "Para un núcleo con número atómico 80 El valor de A que lo hace más estable es 62,y el valor de la energía de enlace por nucleón es 8.70245768367189.\n",
      "Para un núcleo con número atómico 81 El valor de A que lo hace más estable es 62,y el valor de la energía de enlace por nucleón es 8.70245768367189.\n",
      "Para un núcleo con número atómico 82 El valor de A que lo hace más estable es 62,y el valor de la energía de enlace por nucleón es 8.70245768367189.\n",
      "Para un núcleo con número atómico 83 El valor de A que lo hace más estable es 62,y el valor de la energía de enlace por nucleón es 8.70245768367189.\n",
      "Para un núcleo con número atómico 84 El valor de A que lo hace más estable es 62,y el valor de la energía de enlace por nucleón es 8.70245768367189.\n",
      "Para un núcleo con número atómico 85 El valor de A que lo hace más estable es 62,y el valor de la energía de enlace por nucleón es 8.70245768367189.\n",
      "Para un núcleo con número atómico 86 El valor de A que lo hace más estable es 62,y el valor de la energía de enlace por nucleón es 8.70245768367189.\n",
      "Para un núcleo con número atómico 87 El valor de A que lo hace más estable es 62,y el valor de la energía de enlace por nucleón es 8.70245768367189.\n",
      "Para un núcleo con número atómico 88 El valor de A que lo hace más estable es 62,y el valor de la energía de enlace por nucleón es 8.70245768367189.\n",
      "Para un núcleo con número atómico 89 El valor de A que lo hace más estable es 62,y el valor de la energía de enlace por nucleón es 8.70245768367189.\n",
      "Para un núcleo con número atómico 90 El valor de A que lo hace más estable es 62,y el valor de la energía de enlace por nucleón es 8.70245768367189.\n",
      "Para un núcleo con número atómico 91 El valor de A que lo hace más estable es 62,y el valor de la energía de enlace por nucleón es 8.70245768367189.\n",
      "Para un núcleo con número atómico 92 El valor de A que lo hace más estable es 62,y el valor de la energía de enlace por nucleón es 8.70245768367189.\n",
      "Para un núcleo con número atómico 93 El valor de A que lo hace más estable es 62,y el valor de la energía de enlace por nucleón es 8.70245768367189.\n",
      "Para un núcleo con número atómico 94 El valor de A que lo hace más estable es 62,y el valor de la energía de enlace por nucleón es 8.70245768367189.\n",
      "Para un núcleo con número atómico 95 El valor de A que lo hace más estable es 62,y el valor de la energía de enlace por nucleón es 8.70245768367189.\n",
      "Para un núcleo con número atómico 96 El valor de A que lo hace más estable es 62,y el valor de la energía de enlace por nucleón es 8.70245768367189.\n",
      "Para un núcleo con número atómico 97 El valor de A que lo hace más estable es 62,y el valor de la energía de enlace por nucleón es 8.70245768367189.\n",
      "Para un núcleo con número atómico 98 El valor de A que lo hace más estable es 62,y el valor de la energía de enlace por nucleón es 8.70245768367189.\n",
      "Para un núcleo con número atómico 99 El valor de A que lo hace más estable es 62,y el valor de la energía de enlace por nucleón es 8.70245768367189.\n",
      "Para un núcleo con número atómico 100 El valor de A que lo hace más estable es 62,y el valor de la energía de enlace por nucleón es 8.70245768367189.\n",
      "La energía máxima general de enlace nuclear por nucleón es de 8.70245768367189 y el primero en que se da es en Z=28.\n"
     ]
    }
   ],
   "source": [
    "energias=[] #lista vacia\n",
    "energias_max=[] #lista vacia\n",
    "for Z in range(1,101):\n",
    "    \n",
    "    for A in range(Z,5*Z+1): #Aquí se recorre los valores de A entre Z y 3Z y,  dependiendo de si A es par, impar (lo mismo para Z), \n",
    "        if A%2==1:           #es el valor de B que nos calcula y por ende el de enuc.\n",
    "            a5=0\n",
    "        elif A%2==0 and Z%2==0:\n",
    "            a5=12\n",
    "        elif A%2==0 and Z%2==1:\n",
    "            a5=-12\n",
    "        B= a1*A-a2*A**(2/3)-(a3*Z*Z)/A**(1/3)-(a4*(A-2*Z)**2)/A+a5/A**(1/2)\n",
    "        enuc=B/A\n",
    "        energias.append((A, enuc)) #a la lista vacía se le van agregando tuplas de (A, enuc) por cada iteración.\n",
    "    maxA, maxEnergia = max(energias, key=lambda x: x[1]) #aquí se busca el máximo de cada tupla, tomando para esto a enuc  como el parámetro.\n",
    "                                                         #además de asociar la A que corresponda a ese valor máximo y se define como maxA\n",
    "    energias_max.append(maxEnergia)\n",
    "    print('Para un núcleo con número atómico',Z, f'El valor de A que lo hace más estable es {maxA},' \n",
    "    f'y el valor de la energía de enlace por nucleón es {maxEnergia}.')\n",
    "max_abs=max(energias_max)\n",
    "print('La energía máxima general de enlace nuclear por nucleón es de', max_abs, 'y el primero en que se da es en Z=28.' )"
   ]
  },
  {
   "cell_type": "markdown",
   "id": "84876692-e78f-4236-8862-e2025b551768",
   "metadata": {},
   "source": [
    "## 2. La constante de Madelung\n",
    "#### En física de la materia condensada, la constante de Madelung da el potencial electrico total que siente un átomo en un  sólido; y depende de las\n",
    "#### cargas de los otros átomos cercanos y de sus ubicaciones. Por ejemplo, el cristal de cloruro de sodio solido (la sal de mesa), tiene átomos\n",
    "#### dispuestos en una red cúbica, con átomos de sodio y cloro alternados, teniendo los de sodio una carga positiva +e y los de cloro una \n",
    "#### negativa −e, (donde e es la carga del electron). Si etiquetamos cada posición en la red con tres coordenadas enteras (i, j, k), \n",
    "#### entonces los atomos de sodio caen en posiciones donde i + j + k es par, y los atomos de cloro en posiciones donde i + j + k es \n",
    "#### impar. Consideremos un atomo de sodio en el origen, i.e. i = j = k = 0, y calculemos la constante de Madelung. Si el espaciado \n",
    "#### de los atomos en la red es a, entonces la distancia desde el origen al atomo en la posición (i, j, k) es:\n",
    "$$ \\sqrt{(ia)^2+(ja)^2+(ka)^2} = a\\sqrt\n",
    "{i^2+j^2+k^2}$$\n",
    "#### y el potencial en el origen creado por tal atomo es:\n",
    "$$\n",
    "V(i,j,k)= \\pm \\frac{e}{4\\pi\\epsilon_oa\\sqrt\n",
    "{i^2+j^2+k^2}}\n",
    "$$\n",
    "#### siendo ε0 la permitividad del vacío y el signo de la expresion se toma dependiendo de si i + j + k es par o impar. Así entonces, el potencial \n",
    "#### total que siente el átomo de sodio es la suma de esta cantidad sobre todos los demas átomos. Supongamos una caja cúbica alrededor del átomo\n",
    "#### de sodio en el origen, con L atomos en todas las direcciones, entonces:\n",
    "$$\n",
    "V_{\\text{total}} = \\sum_{\\substack{i,j,k=-L \\\\ i,j,k \\neq 0}}^{L} V(i,j,k)= \\frac{e}{4\\pi\\epsilon_0a}M\n",
    "$$\n",
    "#### donde M es la constante de Madelung (al menos aproximadamente).\n",
    "#### Técnicamente, la constante de Madelung es el valor de M cuando L → ∞, pero se puede obtener una buena aproximación simplemente usando\n",
    "#### un valor grande de L. Escribe un programa para calcular e imprimir la constante de Madelung para el cloruro de sodio. Utiliza un \n",
    "#### valor de L tan grande  como puedas, sin dejar que tu programa se ejecutar en un tiempo razonable (un minuto o menos)."
   ]
  },
  {
   "cell_type": "markdown",
   "id": "8ca799d2-4039-4201-b2c4-ce9e632c524d",
   "metadata": {},
   "source": [
    "##### Primero notemos que la expresión \n",
    "$$\n",
    "V_{\\text{total}} = \\sum_{\\substack{i,j,k=-L \\\\ i,j,k \\neq 0}}^{L} V(i,j,k)\n",
    "$$\n",
    "##### se puede reescribir como\n",
    "$$\n",
    "V_{\\text{total}} = \\sum_{\\substack{i,j,k=-L \\\\ i,j,k \\neq 0}}^{L}  \\pm \\frac{e}{4\\pi\\epsilon_oa\\sqrt\n",
    "{i^2+j^2+k^2}}\n",
    "$$ \n",
    "##### Y se puede ver como:\n",
    "$$\n",
    "V_{\\text{total}} = \\frac{e}{4\\pi\\epsilon_oa}\\sum_{\\substack{i,j,k=-L \\\\ i,j,k \\neq 0}}^{L}\\pm \\frac{1}{\\sqrt{i^2+j^2+k^2}}\n",
    "$$\n",
    "##### De donde vemos que la constante de Madelung es:\n",
    "$$\n",
    "M=\\sum_{\\substack{i,j,k=-L \\\\ i,j,k \\neq 0}}^{L}  \\pm \\frac{1}{\\sqrt\n",
    "{i^2+j^2+k^2}}\n",
    "$$\n",
    "\n",
    "##### Así que el programa debe calcular dicha suma."
   ]
  },
  {
   "cell_type": "code",
   "execution_count": null,
   "id": "7ad57584-8928-4111-bff2-bf40f3932aaa",
   "metadata": {},
   "outputs": [],
   "source": [
    "from numpy import sqrt\n",
    "def constante_Madelung(L):\n",
    "    M=0\n",
    "    for i in range(-L,L+1):\n",
    "        for j in range(-L,L+1):\n",
    "            for k in range(-L, L+1):\n",
    "                if i==0 and j==0 and k==0:\n",
    "                    continue\n",
    "                m=1/sqrt(i**2+j**2+k**2)\n",
    "                M+= (-1)**(i+j+k)*m\n",
    "    return M\n",
    "L=100\n",
    "M_a=constante_Madelung(L)\n",
    "print(f\"La constante de Madelung aproximada para NaCl con L={L} es: {M_a}\")\n",
    "    \n",
    "                \n",
    "                "
   ]
  },
  {
   "cell_type": "markdown",
   "id": "699c0d58-499b-4d5a-9e1f-7ead3013aa8e",
   "metadata": {},
   "source": [
    "## 3. Coeficientes binomiales\n",
    "#### El coeficiente binomial (nk) es un numero entero igual a:  \n",
    "$$\n",
    "  \\binom{n}{k}=\\frac{n!}{k!(n-k)!}=\\frac{n(n-1)(n-2)...(n-k+1)}{1x2x3x...k}\n",
    "$$\n",
    "donde $k ≥ 1$, o bien $\\binom{n}{0} = 1$ cuando k = 0.\n",
    "\n",
    "#### a) Utiliza esta fórmula para escribir una función llamada binomial (n,k) (o comotú quieras) que calcule el coeficiente binomial\n",
    "#### para un n y k dados. Asegurate de que tu funcion devuelva la respuesta en forma de un número entero (no flotante) y proporcione\n",
    "#### el valor correcto de 1 para el caso en que k = 0."
   ]
  },
  {
   "cell_type": "code",
   "execution_count": 5,
   "id": "4ec1e1e9-bf34-4a44-a35a-d9ea0ee39577",
   "metadata": {},
   "outputs": [],
   "source": [
    "def binomial(n,k): #La función está deividia en tres casos: cuando k>0, k=0 y k<0.\n",
    "    if k >=1: \n",
    "        numerador=1\n",
    "        denominador=1\n",
    "        for i in range(n-k+1,n+1):\n",
    "            numerador*=i #Aquí se hace la multiplicación que da el valor del numerador dependiendo de n y k.\n",
    "        for l in range(1,k+1):\n",
    "            denominador*=l #Aquí se hace la multiplicación que da el valor del denominador dependiendo de n y k.\n",
    "        coef=numerador/denominador #se obtiene el cociente binomial. \n",
    "        return int(coef) #regresa en entero el coeficiente binomial.\n",
    "    elif k==0:\n",
    "        x=1\n",
    "        return x #si k=0, regresa el valor del coeficiente binomial como 1\n",
    "    elif k<0:\n",
    "        print('El valor de k no es válido, debe ser mayor o igual que 0. \\nInténtalo de nuevo')\n",
    "        \n",
    "    \n",
    "    \n",
    "    \n",
    "        \n",
    "        \n",
    "    \n",
    "        \n",
    "        "
   ]
  },
  {
   "cell_type": "code",
   "execution_count": 9,
   "id": "264d0de1-36b9-49dc-ad4a-23938d9c2887",
   "metadata": {},
   "outputs": [
    {
     "data": {
      "text/plain": [
       "495"
      ]
     },
     "execution_count": 9,
     "metadata": {},
     "output_type": "execute_result"
    }
   ],
   "source": [
    "binomial(12,8)"
   ]
  },
  {
   "cell_type": "markdown",
   "id": "93b0c256-dcfc-4f0b-9b2f-34c049a22513",
   "metadata": {},
   "source": [
    "#### b) Usando tu funcion, escribe un programa que imprima las primeras 20 líneas del “triángulo de Pascal’’. La nesima línea del triangulo\n",
    "#### de Pascal contiene n + 1 numeros, que son los coeficientes (n 0), (n 1), y así sucesivamente hasta (n n). De tal manera que las \n",
    "#### primeras líneas son:\n",
    "#### 1 1\n",
    "#### 1 2 1\n",
    "#### 1 3 3 1\n",
    "#### 1 4 6 4 1"
   ]
  },
  {
   "cell_type": "code",
   "execution_count": 32,
   "id": "9afe3233-6006-4df8-a715-d54d54546e98",
   "metadata": {},
   "outputs": [
    {
     "name": "stdout",
     "output_type": "stream",
     "text": [
      " 1  1 \n",
      " 1  2  1 \n",
      " 1  3  3  1 \n",
      " 1  4  6  4  1 \n",
      " 1  5  10  10  5  1 \n",
      " 1  6  15  20  15  6  1 \n",
      " 1  7  21  35  35  21  7  1 \n",
      " 1  8  28  56  70  56  28  8  1 \n",
      " 1  9  36  84  126  126  84  36  9  1 \n",
      " 1  10  45  120  210  252  210  120  45  10  1 \n",
      " 1  11  55  165  330  462  462  330  165  55  11  1 \n",
      " 1  12  66  220  495  792  924  792  495  220  66  12  1 \n",
      " 1  13  78  286  715  1287  1716  1716  1287  715  286  78  13  1 \n",
      " 1  14  91  364  1001  2002  3003  3432  3003  2002  1001  364  91  14  1 \n",
      " 1  15  105  455  1365  3003  5005  6435  6435  5005  3003  1365  455  105  15  1 \n",
      " 1  16  120  560  1820  4368  8008  11440  12870  11440  8008  4368  1820  560  120  16  1 \n",
      " 1  17  136  680  2380  6188  12376  19448  24310  24310  19448  12376  6188  2380  680  136  17  1 \n",
      " 1  18  153  816  3060  8568  18564  31824  43758  48620  43758  31824  18564  8568  3060  816  153  18  1 \n",
      " 1  19  171  969  3876  11628  27132  50388  75582  92378  92378  75582  50388  27132  11628  3876  969  171  19  1 \n",
      " 1  20  190  1140  4845  15504  38760  77520  125970  167960  184756  167960  125970  77520  38760  15504  4845  1140  190  20  1 \n"
     ]
    }
   ],
   "source": [
    "for n in range(1,21):\n",
    "    for  k in range(n+1):\n",
    "        print(end=\" \")\n",
    "        print(int(binomial(n,k)), end=\" \")\n",
    "\n",
    "    print()"
   ]
  },
  {
   "cell_type": "markdown",
   "id": "7ece51e4-3b69-4e6d-8529-3afe98174258",
   "metadata": {},
   "source": [
    "#### c) La probabilidad de que para una moneda no sesgada, lanzada n veces, salga aguila k veces es:\n",
    "\n",
    "$$ p(k|n) = \\frac{\\binom{n}{k}}\n",
    "{2^n}\n",
    "$$ \n",
    "#### Escribe un programa para calcular:\n",
    "#### 1) la probabilidad total de que una moneda lanzada 100 veces, salga aguila exactamente 60 veces y\n",
    "#### 2) la probabilidad de que salga aguila 60 veces o más."
   ]
  },
  {
   "cell_type": "code",
   "execution_count": 44,
   "id": "badaea20-fa46-4b1d-b83f-5546854496f5",
   "metadata": {},
   "outputs": [
    {
     "name": "stdout",
     "output_type": "stream",
     "text": [
      "0.010843866711637987\n",
      "Probabilidad para k = 60 es: 0.010843866711637987\n",
      "Probabilidad para k = 61 es: 0.00711073226992655\n",
      "Probabilidad para k = 62 es: 0.00447287997624412\n",
      "Probabilidad para k = 63 es: 0.0026979276047186754\n",
      "Probabilidad para k = 64 es: 0.0015597393964779842\n",
      "Probabilidad para k = 65 es: 0.0008638556657416528\n",
      "Probabilidad para k = 66 es: 0.00045810527728724014\n",
      "Probabilidad para k = 67 es: 0.00023247133474277857\n",
      "Probabilidad para k = 68 es: 0.00011281697127223077\n",
      "Probabilidad para k = 69 es: 5.232091421320847e-05\n",
      "Probabilidad para k = 70 es: 2.3170690580135184e-05\n",
      "Probabilidad para k = 71 es: 9.790432639493739e-06\n",
      "Probabilidad para k = 72 es: 3.9433687020183116e-06\n",
      "Probabilidad para k = 73 es: 1.5125249815960647e-06\n",
      "Probabilidad para k = 74 es: 5.518672230147804e-07\n",
      "Probabilidad para k = 75 es: 1.9131397064512386e-07\n",
      "Probabilidad para k = 76 es: 6.2932227185896e-08\n",
      "Probabilidad para k = 77 es: 1.9615239642357197e-08\n",
      "Probabilidad para k = 78 es: 5.78398092018225e-09\n",
      "Probabilidad para k = 79 es: 1.6107288638482216e-09\n",
      "Probabilidad para k = 80 es: 4.2281632676015815e-10\n",
      "Probabilidad para k = 81 es: 1.0439909302719954e-10\n",
      "Probabilidad para k = 82 es: 2.4190033750204773e-11\n",
      "Probabilidad para k = 83 es: 5.246031415707059e-12\n",
      "Probabilidad para k = 84 es: 1.0616968341311906e-12\n",
      "Probabilidad para k = 85 es: 1.998488158364594e-13\n",
      "Probabilidad para k = 86 es: 3.4857351599382454e-14\n",
      "Probabilidad para k = 87 es: 5.609228993004073e-15\n",
      "Probabilidad para k = 88 es: 8.286361012392381e-16\n",
      "Probabilidad para k = 89 es: 1.1172621589742536e-16\n",
      "Probabilidad para k = 90 es: 1.3655426387463099e-17\n",
      "Probabilidad para k = 91 es: 1.5005963063146263e-18\n",
      "Probabilidad para k = 92 es: 1.4679746474816996e-19\n",
      "Probabilidad para k = 93 es: 1.2627738903068384e-20\n",
      "Probabilidad para k = 94 es: 9.403635353348797e-22\n",
      "Probabilidad para k = 95 es: 5.939138117904503e-23\n",
      "Probabilidad para k = 96 es: 3.093301103075262e-24\n",
      "Probabilidad para k = 97 es: 1.275588083742376e-25\n",
      "Probabilidad para k = 98 es: 3.9048614808440084e-27\n",
      "Probabilidad para k = 99 es: 7.888609052210118e-29\n",
      "Probabilidad para k = 100 es: 7.888609052210118e-31\n"
     ]
    }
   ],
   "source": [
    "import math\n",
    "def binomial(n,k):\n",
    "  if k == 0:\n",
    "    return 1\n",
    "  elif k > n:\n",
    "    return(\"n debe ser mayor o igual a k\")\n",
    "  else:\n",
    "    return((math.factorial(n))/(math.factorial(k)*math.factorial(n-k)))\n",
    "\n",
    "def probabilidad(n,k):\n",
    "  return(binomial(n,k)/(2**n))\n",
    "print(probabilidad(100,60))\n",
    "for k in range(60, 101):\n",
    "    print(f\"Probabilidad para k = {k} es: {probabilidad(100, k)}\")"
   ]
  },
  {
   "cell_type": "markdown",
   "id": "0811ee81-bdc4-4518-8bcb-0a8aff59a5b7",
   "metadata": {},
   "source": [
    "### 4. Recursión\n",
    "#### Una característica muy útil de las funciones que podemos definir es la recursividad, es decir, la capacidad de una funcion de llamarse a sí misma.\n",
    "\n",
    "#### Por ejemplo, considere la siguiente definicion del factorial n! de un entero positivo n:\n",
    "\n",
    "$$\n",
    "n! =\n",
    "\\begin{cases} \n",
    "1, & \\text{si } n = 1, \\\\ \n",
    "n \\times (n-1)!, & \\text{si } n > 1.\n",
    "\\end{cases} $$\n",
    "#### Esto constituye una definición completa del factorial que nos permite calcular el valor de n! para cualquier entero positivo. Podemos emplear \n",
    "#### esta definicion directamente para crear una función para calcular factoriales, como esta (en Python):\n",
    "#### def factorial(n):\n",
    "####     if n==1:\n",
    "#### return 1\n",
    "#### else:\n",
    "####    return n*factorial(n-1)\n",
    "\n",
    "#### Nota como si n no es igual a 1, la funcion se llama a sí misma para calcular el factorial de n − 1, de tal manera que al pedir \n",
    "#### “print(factorial(5))” el interprete de Python imprimira correctamente la respuesta 120. \n",
    "#### a) Anteriormente, en clase encontramos los numeros de Catalán Cn. Si hacemos una pequenñaa modificación, la definició de Cn se puede \n",
    "#### reescribir de la siguiente forma:\n",
    "$$ C_n = \\begin{cases}\n",
    "1, & \\text{si } n = 0 \\\\\n",
    "\\frac{4n − 2}{n + 1}C_{n−1} & \\text{si } n > 0\n",
    "\\end{cases}$$\n",
    "\n",
    "#### Escribe una función, usando recursividad, que calcule Cn y utilízala para calcular e imprimir C_100."
   ]
  },
  {
   "cell_type": "code",
   "execution_count": 36,
   "id": "5f1035fe-18e5-43f0-b576-7612f8a4ea58",
   "metadata": {},
   "outputs": [
    {
     "name": "stdout",
     "output_type": "stream",
     "text": [
      "8.965199470901317e+56\n"
     ]
    }
   ],
   "source": [
    "def catalan(n):\n",
    "    if n==0:\n",
    "        return 1\n",
    "    elif n>0:\n",
    "        return (4*n-2)/(n+1)*catalan(n-1)\n",
    "\n",
    "print(catalan(100))\n",
    "    "
   ]
  },
  {
   "cell_type": "markdown",
   "id": "7d459a90-d5a1-48af-8b32-b297e2c8e87b",
   "metadata": {},
   "source": [
    "#### b) Euclides demostro que el máximo común divisor g(m, n) de dos enteros no negativos m y n satisface que:\n",
    "$$\n",
    "g(m,n) =\n",
    "\\begin{cases} \n",
    "m, & \\text{si } n = 0, \\\\ \n",
    "g(n, m \\bmod n), & \\text{si } n > 0.\n",
    "\\end{cases}\n",
    "$$\n",
    "#### Usando esta formula escribe una función g(m,n) que emplee recursividad para calcular el maximo común divisor de  m y n. \n",
    "#### Usa tu funcion para calcular e imprimir el maximo común divisor de 108 y 192."
   ]
  },
  {
   "cell_type": "code",
   "execution_count": 40,
   "id": "cfae0ab4-f416-49e4-a737-86e5a6082e07",
   "metadata": {},
   "outputs": [
    {
     "name": "stdout",
     "output_type": "stream",
     "text": [
      "12\n"
     ]
    }
   ],
   "source": [
    "def g(m, n):\n",
    "  if n==0:\n",
    "    return m\n",
    "  elif n>0:\n",
    "    return g(n, m%n)\n",
    "print(g(108,192))"
   ]
  },
  {
   "cell_type": "code",
   "execution_count": null,
   "id": "1f9e29b4-9db9-4fb5-9960-3790c8be501f",
   "metadata": {},
   "outputs": [],
   "source": []
  }
 ],
 "metadata": {
  "kernelspec": {
   "display_name": "Python 3 (ipykernel)",
   "language": "python",
   "name": "python3"
  },
  "language_info": {
   "codemirror_mode": {
    "name": "ipython",
    "version": 3
   },
   "file_extension": ".py",
   "mimetype": "text/x-python",
   "name": "python",
   "nbconvert_exporter": "python",
   "pygments_lexer": "ipython3",
   "version": "3.12.4"
  }
 },
 "nbformat": 4,
 "nbformat_minor": 5
}
