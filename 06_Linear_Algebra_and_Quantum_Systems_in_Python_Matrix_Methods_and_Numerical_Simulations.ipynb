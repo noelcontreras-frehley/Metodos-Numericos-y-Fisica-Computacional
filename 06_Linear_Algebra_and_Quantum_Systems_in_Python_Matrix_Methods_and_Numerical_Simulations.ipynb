{
 "cells": [
  {
   "cell_type": "markdown",
   "id": "b8f626d8-3c2e-4277-80b6-4bfa47a9b4be",
   "metadata": {},
   "source": [
    "# Métodos de solución numérica para problemas matriciales y sistemas de ecuaciones lineales.\n",
    "## Noel Alejandro Contreras Acosta\n",
    "### 1. Productos vectoriales y matriciales (valor: 2 puntos). Escribe el pseudocodigo de los algoritmos que realicen las siguientes operaciones vectoriales; así como los respectivos programas en python, sin usar bibliotecas como numpy ni cualquier otra (i.e. usando solo listas ) que implementen dichos algoritmos:"
   ]
  },
  {
   "cell_type": "markdown",
   "id": "985fa386-a258-4fce-bbf2-e7bd21a5b1c1",
   "metadata": {},
   "source": [
    "### (a) El producto interior (producto punto) de dos vectores en R3. En este caso, para la implementacion el usuario del programa debe insertar las entradas de los vectores."
   ]
  },
  {
   "cell_type": "code",
   "execution_count": 62,
   "id": "a664ed91-dbb5-40be-a8c3-d5dbada5b249",
   "metadata": {},
   "outputs": [],
   "source": [
    "import numpy as np"
   ]
  },
  {
   "cell_type": "code",
   "execution_count": 64,
   "id": "c7195813-6c54-4956-89ff-63785d89dc62",
   "metadata": {},
   "outputs": [],
   "source": [
    "def ProductoPunto(a,b): #definimos la función \n",
    "    if len(a)!=3 or len(b)!=3: #los vectores deben tener 3 componentes pues se pide que sea en R3.\n",
    "        print(\"Los vectores deben estar en R3, por lo que deben tener 3 entradas.\")\n",
    "        return None\n",
    "    s=0 #se empieza le resultado en 0\n",
    "    for i in range(len(a)): #se barre i desde 0 a 2\n",
    "        s+=a[i]*b[i]  #se hace el producto de componente a componente y se va sumando a s\n",
    "    return s #regresa el producto punto\n"
   ]
  },
  {
   "cell_type": "code",
   "execution_count": 68,
   "id": "4fd9bfda-3a6c-4530-9b9b-d589b69a0c25",
   "metadata": {},
   "outputs": [
    {
     "name": "stdin",
     "output_type": "stream",
     "text": [
      "Introduce las componentes del vector a separadas por un espacio:  5\n",
      "Introduce las componentes del vector b separadas por un espacio:  4\n"
     ]
    },
    {
     "name": "stdout",
     "output_type": "stream",
     "text": [
      "Los vectores deben estar en R3, por lo que deben tener 3 entradas.\n",
      "El producto punto de [5.0] con [4.0] es:  None\n"
     ]
    }
   ],
   "source": [
    "vector_a=input('Introduce las componentes del vector a separadas por un espacio: ') #se le pide la usuario que introduzca las componentes de los vectores\n",
    "vector_b=input('Introduce las componentes del vector b separadas por un espacio: ')\n",
    "\n",
    "a=list(map(float,vector_a.split())) #separa lo ingresado por un espacio y esos elementos en float's y los agrega a una lista para crear al vector\n",
    "b=list(map(float,vector_b.split()))\n",
    "\n",
    "print(f'El producto punto de {a} con {b} es: ', ProductoPunto(a,b))"
   ]
  },
  {
   "cell_type": "markdown",
   "id": "6f10352c-82b9-46fd-95df-03edca0fb871",
   "metadata": {},
   "source": [
    "### (b) El producto interior de dos vectores en Rn. Para la implementación, en este caso, encuentra una manera de generar dos vectores diferentes en Rn 1"
   ]
  },
  {
   "cell_type": "code",
   "execution_count": 70,
   "id": "0f520553-975d-4485-820a-f769dbe925c2",
   "metadata": {},
   "outputs": [
    {
     "name": "stdin",
     "output_type": "stream",
     "text": [
      "Ingrese el número de componentes que tendrán los vectores:  5\n"
     ]
    },
    {
     "name": "stdout",
     "output_type": "stream",
     "text": [
      "El producto punto de [ 669 7567 2903 2295 4111] con [8257 8454 2658 4097 6964] es:  115243144\n"
     ]
    }
   ],
   "source": [
    "n=int(input('Ingrese el número de componentes que tendrán los vectores: ')) #El usuario ingrea la cantidad de componentes que tendrá el vector\n",
    "a=np.random.randint(0,10000,n) #se generan dos vectores de n componentes de forma aleatoria; dichas componentes tienen valores entre 0 y 10000\n",
    "b=np.random.randint(0,10000,n)\n",
    "def ProductoPuntoN(a,b): #generamos la función que realiza el producto punto de los vectores a y b\n",
    "    resultado=0 #inicializamos el resultado en 0\n",
    "    for  i in range(n): #en este ciclo for se realiza la multipicación de los vectores componente a componente y se van sumando\n",
    "        resultado+=a[i]*b[i]\n",
    "    return resultado #obtenemos el resultado del producto punto\n",
    "\n",
    "print(f'El producto punto de {a} con {b} es: ', ProductoPuntoN(a,b))\n"
   ]
  },
  {
   "cell_type": "markdown",
   "id": "d5016300-a5cc-4b6a-ba47-efd35e554101",
   "metadata": {},
   "source": [
    "### (c) El producto de una matriz en A ∈ Rnxn, por un vector de Rn. Para la implementación las entradas tanto del vector como de la matriz deben leerse de un archivo de datos (que tú puedes generar)."
   ]
  },
  {
   "cell_type": "code",
   "execution_count": 72,
   "id": "ab5c2f4c-e4db-4972-8331-13d810273a99",
   "metadata": {},
   "outputs": [
    {
     "name": "stdout",
     "output_type": "stream",
     "text": [
      "EL resultado de multiplicar tu matriz por tu vector es:  [30.0, 72.0, 114.0, 0]\n"
     ]
    }
   ],
   "source": [
    "def MatVec(archivo): #generamos la función que nos dará el producto de una matriz por un vector. El argumento de la función es un archivo de texto\n",
    "    #el cual contiene n+1 renglones. Hasta el renglón n, cada renglón es una fila de la matriz. Los componentes de cada fila están separados por un espacio\n",
    "    #mientras que el renglón n+1 del archivo es el vector.\n",
    "\n",
    "    lineas=archivo.readlines() #se lee por lineas el archivo\n",
    "    l=[] #inicializamos una lista vacia en donde se agregarán todas los renglones que se extraigan del archivo\n",
    "    for i in lineas:\n",
    "        l.append(list(map(float,i.split()))) #se extrae cada renglón del archivo convirtiéndolos en listas cuyos elementos se convierten en flotantes.\n",
    "        #estas listas (renglones) se agregan a al lista l\n",
    "    resultado=[] #defnimos otra lista vacia que contendrá el vector resultante de la operación\n",
    "    for indice, j in enumerate(l): #iniciamos un ciclo for considerando enumerate para evitar posibles errores con la indexación en caso de que \n",
    "        #se tengan filas repetidas envel archivo\n",
    "        suma=0 \n",
    "        if indice<len(l)-1: #si el índice del elemento (fila) de la lista l en cuestión es menor que el índice del último elemento de l (el vector)\n",
    "            #básicamente lo que se buscará en este if es generar el producto de punto de las filas de la matriz con el vector\n",
    "            for k in range(len(j)):\n",
    "                suma+=j[k]*l[len(l)-1][k] #se realiza la multiplicación del elemento k de la fila j por el elemento k del vector y el resultado se va\n",
    "                #sumando hasta terminar de multiplicar todos los elementos de la fila j por los elementos del vector. Y el resultado se agrega a la lista\n",
    "                #resultado, generando así el vector resultante de la operación\n",
    "            resultado.append(suma) \n",
    "    return resultado #nos regresa el vector final\n",
    "\n",
    "archivo=open('PruebaMatVec.txt') \n",
    "print('EL resultado de multiplicar tu matriz por tu vector es: ', MatVec(archivo))#se usa un archivo de prueba\n"
   ]
  },
  {
   "cell_type": "markdown",
   "id": "58e8b583-ae18-4802-b86c-5e2b8ef13fa6",
   "metadata": {},
   "source": [
    "### (d) El producto de dos matrices A, B ∈ Rnxn. En la implementacion las entradas de ambas matrices deben leerse de un archivo de datos (que tú generes)."
   ]
  },
  {
   "cell_type": "code",
   "execution_count": 75,
   "id": "399cfb7e-4220-4559-9ef6-a605b3875ea6",
   "metadata": {},
   "outputs": [
    {
     "name": "stdout",
     "output_type": "stream",
     "text": [
      "El resultado de multiplicar la matriz [[-12.0, -56.0, 19.0], [3.0, 4.0, 5.0], [7.0, 8.0, 9.0]] con la matriz [[1.0, 2.0, 3.0], [4.0, 5.0, 6.0], [7.0, 8.0, 9.0]] es la matriz siguiente: \n",
      "[[-103.0, -152.0, -201.0], [54.0, 66.0, 78.0], [102.0, 126.0, 150.0]] \n"
     ]
    }
   ],
   "source": [
    "def Productonxn(archivo1): #generamos la función que nos dará el resultado de multiplicar matriz nxn con otra nxn. Las matrices están en un archivo en un \n",
    "    #formato similar al del inciso anterior, con la única diferencia de que en este caso hay salto de línea (renglón vacio) que separa las matrices\n",
    "    archivo=open(archivo1) #abrimos el archivo donde están las matrices\n",
    "    lineas=archivo.readlines() #o leemos por lineas\n",
    "    Matriz1=[] #listas auxiliares donde se extraerán las filas de las matrices\n",
    "    Matriz2=[]\n",
    "    l=[] #lista auxiliar donde se extraerán todos los renglones del archivo\n",
    "    for i in lineas:\n",
    "        l.append(list(map(float,i.split()))) #agregamos todos los renglones del aerchivo de texto. Cada renglón convertido en lista con elementos flotantes\n",
    "    for indice, j in enumerate(l): #usamos enumerate por la misma razón que en el inciso anterior\n",
    "        if indice<=(len(l)-1)/2-1: #los renglones correspondientes a las filas de la matriz1 se agreggan a la lista correspondiente\n",
    "            Matriz1.append(j)\n",
    "        elif indice>(len(l)+1)/2-1:#los renglones correspondientes a las filas de la matriz1 se agreggan a la lista correspondiente\n",
    "            Matriz2.append(j)\n",
    "    resultado= [[0 for _ in range(len(Matriz1))] for _ in range(len(Matriz1))] #creamos la matriz resultado, la cual inicializamos con sus elementos 0\n",
    "    for n in range(len(Matriz1)): #recorremos las filas de la matriz1\n",
    "        for m in range(len(Matriz1)): #recorremos las columnas de la matriz2\n",
    "            for k in range(len(Matriz1)): #recorremos las columnas de matriz1 y filas de la matriz2\n",
    "                resultado[n][m]+=Matriz1[n][k]*Matriz2[k][m] #se va rellenando la matriz resultado con los elementos resultantes de multiplicar \n",
    "                #las dos matrices originales\n",
    "    return Matriz1, Matriz2, resultado #obtenemos las dos matrices que se multiplicaron y la matriz resultante de dicha multiplicación\n",
    "\n",
    "x=Productonxn('PruebaMatMat.txt') #se usa un archivo de prueba\n",
    "\n",
    "print(f'El resultado de multiplicar la matriz {x[0]} con la matriz {x[1]} es la matriz siguiente: \\n{x[2]} ') \n"
   ]
  },
  {
   "cell_type": "markdown",
   "id": "f84f4aac-b042-41ec-9440-a66258f46252",
   "metadata": {},
   "source": [
    "### (e) Convierte tus códigos en funciones y generaliza todo en un única función que realice el producto de dos matrices A ∈ Rnm y B ∈ Rmn así como el cálculo de cualquiera de los incisos anteriores, dependiendo de la entrada que se le de a la función. En todos los casos, las entradas deben leerse de un archivo de datos."
   ]
  },
  {
   "cell_type": "code",
   "execution_count": 78,
   "id": "d9edb29b-d4ab-49f6-969a-b08184879ab1",
   "metadata": {},
   "outputs": [
    {
     "name": "stdout",
     "output_type": "stream",
     "text": [
      "El resultado del producto punto de los vectores [[56.0, -345.0, -67.0]] y [[88.0, 0.0, 11123.0]] es: -740313.0.\n",
      "El resultado de multiplicar la matriz [[-12.0, -56.0, 19.0], [3.0, 4.0, 5.0], [7.0, 8.0, 9.0]] con la matriz [[1.0, 2.0, 3.0], [4.0, 5.0, 6.0], [7.0, 8.0, 9.0]] es: [[-103.0, -152.0, -201.0], [54.0, 66.0, 78.0], [102.0, 126.0, 150.0]]\n",
      "El resultado de multiplicar la matriz [[1.0, 2.0, 3.0], [4.0, 5.0, 6.0], [7.0, 8.0, 9.0]] con el vector [[3.0, 6.0, 5.0]] es: [30.0, 72.0, 114.0]\n"
     ]
    }
   ],
   "source": [
    "def MultipicaciónGeneral(archivo1): #el archivo que se meterá como argumento de la función funcion de forma análoga al descrito para el inciso anterior.\n",
    "    #la separación entre los vectores, matriz y vector o matrices es a través de un renglón vacío. Según sea el caso del contenido del archivo, lo que se\n",
    "    #hace es lo descrito para los incisos anteriores. Solamente se modificó un poco el caso apra matriz y vector pues en el inciso c) el archivo que se \n",
    "    #metía no tenpia como división un renglón vacío, y en este caso sí será así. \n",
    "    archivo=open(archivo1)\n",
    "    lineas=archivo.readlines()\n",
    "\n",
    "    Matriz1=[]\n",
    "    Matriz2=[]\n",
    "    l=[]\n",
    "    for i in lineas:\n",
    "        l.append(list(map(float,i.split())))\n",
    "    separador = l.index([])\n",
    "    for indice, j in enumerate(l):\n",
    "        if indice<=(separador-1):\n",
    "            Matriz1.append(j)\n",
    "        elif indice>(separador):\n",
    "            Matriz2.append(j)\n",
    "    \n",
    "    if len(Matriz1)==1 and len(Matriz2)==1: #caso para cuando el archivo contiene dos vectores\n",
    "        resultado=0\n",
    "        n=len(Matriz1[0])\n",
    "        for  i in range(0,n):\n",
    "            resultado+=Matriz1[0][i]*Matriz2[0][i]\n",
    "        return f'El resultado del producto punto de los vectores {Matriz1} y {Matriz2} es: {resultado}.'\n",
    "\n",
    "\n",
    "\n",
    "\n",
    "    if len(Matriz1)>1 and len(Matriz2)==1: #caso para cuando el archivo contiene una matriz y un vector\n",
    "        resultado=[0 for _ in range(len(Matriz1))]\n",
    "        for n in range(len(Matriz1)):\n",
    "            for m in range(len(Matriz1)):\n",
    "                resultado[n]+=Matriz1[n][m]*Matriz2[0][m]\n",
    "        return f'El resultado de multiplicar la matriz {Matriz1} con el vector {Matriz2} es: {resultado}'\n",
    "            \n",
    "        \n",
    "\n",
    "\n",
    "\n",
    "    elif len(Matriz1)>1 and len(Matriz2)>1: #caso para cuando el archivo contiene dos matrices\n",
    "        resultado= [[0 for _ in range(len(Matriz1))] for _ in range(len(Matriz1))]\n",
    "        for n in range(len(Matriz1)):\n",
    "            for m in range(len(Matriz1)):\n",
    "                for k in range(len(Matriz1)):\n",
    "                    resultado[n][m]+=Matriz1[n][k]*Matriz2[k][m]\n",
    "        return f'El resultado de multiplicar la matriz {Matriz1} con la matriz {Matriz2} es: {resultado}'\n",
    "        \n",
    "\n",
    "\n",
    "\n",
    "\n",
    "\n",
    "\n",
    "print(MultipicaciónGeneral('PruebaVecVec.txt')) #Archivos de prueba\n",
    "print(MultipicaciónGeneral('PruebaMatMat.txt'))\n",
    "print(MultipicaciónGeneral('PruebaMatVec.txt'))\n",
    "\n",
    "\n",
    "\n",
    "\n",
    "\n",
    "\n",
    "\n",
    "\n",
    "        \n",
    "    \n",
    "    \n",
    "    \n",
    "    \n",
    "    \n",
    "    "
   ]
  },
  {
   "cell_type": "markdown",
   "id": "2f56d284-2521-4f2d-abf0-36f6a0e93acb",
   "metadata": {},
   "source": [
    "### 3. Descomposición LU (valor: 3 puntos).\n",
    "### (a) A partir del programa para la Eliminación Gaussiana que hicimos en clase, escribe una programa que calcule la descomposición LU de una matriz. De hecho, el cálculo es el mismo que para la eliminación gaussiana, excepto que en cada paso del cálculo debes extraer los elementos apropiados de la matriz y ensamblarlos para formar la matriz diagonal inferior \n",
    "$L$ (i.e; $L = L_0^{−1}L_1^{-1}L_2^{-1}L_3^{-1}· · · ) $\n"
   ]
  },
  {
   "cell_type": "code",
   "execution_count": 81,
   "id": "6abc9673-ea7b-4267-b91a-fd81c7c6f285",
   "metadata": {},
   "outputs": [
    {
     "name": "stdout",
     "output_type": "stream",
     "text": [
      "\t\t\t---Descomposición L, U de una matriz A---\n",
      "Matriz original A:\n",
      "[[ 2.  1.  4.  1.]\n",
      " [ 3.  4. -1. -1.]\n",
      " [ 1. -4.  1.  5.]\n",
      " [ 2. -2.  1.  3.]]\n",
      "Parte L (matriz inferior):\n",
      "[[ 1.          0.          0.          0.        ]\n",
      " [ 1.5         1.          0.          0.        ]\n",
      " [ 0.5        -1.8         1.          0.        ]\n",
      " [ 1.         -1.2         0.83823529  1.        ]]\n",
      "Parte U (matriz superior):\n",
      "[[  2.    1.    4.    1. ]\n",
      " [  0.    2.5  -7.   -2.5]\n",
      " [  0.    0.  -13.6   0. ]\n",
      " [  0.    0.    0.   -1. ]]\n"
     ]
    }
   ],
   "source": [
    "import scipy as sp\n",
    "import matplotlib.pyplot as plt\n",
    "\n",
    "def descomposicion_lu(matriz):\n",
    "    \"\"\"\n",
    "    Realiza la descomposición LU de una matriz cuadrada utilizando eliminación gaussiana.\n",
    "    \"\"\"\n",
    "    n = len(matriz)\n",
    "    superior = matriz.copy()  # Copia de la matriz original para trabajar en U\n",
    "    inferior = np.identity(n)  # Matriz identidad inicial para L\n",
    "\n",
    "    for fila_pivote in range(n):# Iteramos sobre las filas debajo del pivote actual\n",
    "        for fila_objetivo in range(fila_pivote + 1, n): # Creamos una matriz identidad temporal para construir L en este paso\n",
    "            l_elemental = np.identity(n)\n",
    "\n",
    "            multiplicador = superior[fila_objetivo, fila_pivote] # Calculamos el multiplicador para el pivote\n",
    "\n",
    "            superior[fila_objetivo, :] -= multiplicador * superior[fila_pivote, :] / superior[fila_pivote, fila_pivote]# Realizamos la eliminación gaussiana para hacer cero el elemento debajo del pivote\n",
    "\n",
    "            l_elemental[fila_objetivo, fila_pivote] = multiplicador / superior[fila_pivote, fila_pivote] # Actualizamos el valor correspondiente en la matriz elemental de L\n",
    "\n",
    "            inferior = np.dot(inferior, l_elemental) # Acumulamos la transformación en la matriz L\n",
    "\n",
    "    return inferior, superior\n",
    "\n",
    "matriz_original = np.array([[ 2,  1,  4,  1 ],  # Creamos la matriz que nos dieron en clase\n",
    "                            [ 3,  4, -1, -1 ],\n",
    "                            [ 1, -4,  1,  5 ],\n",
    "                            [ 2, -2,  1,  3 ]], dtype=float)\n",
    "\n",
    "# Creamos copias de la matriz y el vector para comparaciones posteriores\n",
    "matriz_copia = matriz_original.copy()\n",
    "vector_original = np.array([-4, 3, 9, 7], dtype=float)\n",
    "vector_copia = vector_original.copy()\n",
    "\n",
    "# Obtenemos el tamaño de la matriz\n",
    "tamaño = len(matriz_original)\n",
    "\n",
    "# Realizamos la descomposición LU utilizando la función definida anteriormente\n",
    "L = descomposicion_lu(matriz_original)[0]  # Parte L\n",
    "U = descomposicion_lu(matriz_original)[1]  # Parte U\n",
    "\n",
    "print(f'\\t\\t\\t---Descomposición L, U de una matriz A---\\n'\n",
    "      f'Matriz original A:\\n{matriz_copia}\\n'\n",
    "      f'Parte L (matriz inferior):\\n{L}\\n'\n",
    "      f'Parte U (matriz superior):\\n{U}')"
   ]
  },
  {
   "cell_type": "markdown",
   "id": "64d71bcc-1f58-4096-bd10-3b3ab6cdf2df",
   "metadata": {},
   "source": [
    "### (b) Prueba tu programa calculando la descomposición LU de la matriz del sistema que abordamos en clase:\n",
    "\n",
    "$$ \n",
    "\\begin{bmatrix}\n",
    "2 & 1 & 4 & 1 \\\\\n",
    "3 & 4 &-1 & -1\\\\\n",
    "1 &-4 & 1 & 5 \\\\\n",
    "2 &-2 & 1 & 3\n",
    "\\end{bmatrix}\n",
    "\\begin{bmatrix}\n",
    "t \\\\\n",
    "x \\\\\n",
    "y \\\\\n",
    "z \\\\ \n",
    "\\end{bmatrix} =\n",
    "\\begin{bmatrix}\n",
    "-4\\\\\n",
    "3 \\\\\n",
    "9 \\\\\n",
    "7 \n",
    "\\end{bmatrix} $$"
   ]
  },
  {
   "cell_type": "code",
   "execution_count": 84,
   "id": "c20251f4-a304-453c-a831-1dbfaae09663",
   "metadata": {},
   "outputs": [],
   "source": [
    "A = np.array([[ 2,  1,  4,  1 ],\n",
    "           [ 3,  4, -1, -1 ],\n",
    "           [ 1, -4,  1,  5 ],\n",
    "           [ 2, -2,  1,  3 ]],float)\n",
    "\n",
    "\n",
    "v = np.array([ -4, 3, 9, 7 ],float)  # Vector del sistema a resolver"
   ]
  },
  {
   "cell_type": "markdown",
   "id": "7b94c5fc-fcf2-4ec0-a79c-43e72f39ca75",
   "metadata": {},
   "source": [
    "### (c) Multiplica las matrices L y U que obtengas y verifica que se recupere la matriz original."
   ]
  },
  {
   "cell_type": "code",
   "execution_count": 87,
   "id": "2cbff602-6cb9-402a-a59e-6cf6ea13ead3",
   "metadata": {},
   "outputs": [
    {
     "name": "stdout",
     "output_type": "stream",
     "text": [
      "Producto de L y U:\n",
      "[[ 2.  1.  4.  1.]\n",
      " [ 3.  4. -1. -1.]\n",
      " [ 1. -4.  1.  5.]\n",
      " [ 2. -2.  1.  3.]]\n"
     ]
    }
   ],
   "source": [
    "print(f'Producto de L y U:\\n{np.dot(L,U)}')"
   ]
  },
  {
   "cell_type": "markdown",
   "id": "803f081d-6c31-48b9-9cf5-a1a8668ba54b",
   "metadata": {},
   "source": [
    "### (d) Convierte tu programa en una función y usala para crear un programa completo para resolver el sistema (ec. 1), realizando una doble sustitución inversa (backsustitution).\n",
    "\n"
   ]
  },
  {
   "cell_type": "code",
   "execution_count": 90,
   "id": "4605b0b2-7d22-4577-8e96-abf70458aa2a",
   "metadata": {},
   "outputs": [
    {
     "name": "stdout",
     "output_type": "stream",
     "text": [
      "Solución del sistema:\n",
      "Matriz A:\n",
      "[[ 2.  1.  4.  1.]\n",
      " [ 3.  4. -1. -1.]\n",
      " [ 1. -4.  1.  5.]\n",
      " [ 2. -2.  1.  3.]]\n",
      "--------------------------\n",
      "Vector b:\n",
      "[-4.  3.  9.  7.]\n",
      "Es:\n",
      "[ 2. -1. -2.  1.]\n"
     ]
    }
   ],
   "source": [
    "# Inicializamos el vector auxiliar para la sustitución hacia adelante\n",
    "x = np.empty(tamaño)\n",
    "\n",
    "# Sustitución hacia adelante para resolver Lx = b\n",
    "for fila in range(tamaño):\n",
    "    suma = sum(L[fila][columna] * x[columna] for columna in range(fila))\n",
    "    x[fila] = (vector_original[fila] - suma) / L[fila][fila]\n",
    "\n",
    "# Inicializamos el vector solución para la sustitución hacia atrás\n",
    "y = np.empty(tamaño)\n",
    "\n",
    "# Sustitución hacia atrás para resolver Uy = x\n",
    "for fila in reversed(range(tamaño)):\n",
    "    suma = sum(U[fila][columna] * y[columna] for columna in range(fila + 1, tamaño))\n",
    "    y[fila] = (x[fila] - suma) / U[fila][fila]\n",
    "\n",
    "print(f'Solución del sistema:\\nMatriz A:\\n{matriz_copia}\\n'\n",
    "      f'--------------------------\\nVector b:\\n{vector_copia}\\n'\n",
    "      f'Es:\\n{y}')"
   ]
  },
  {
   "cell_type": "markdown",
   "id": "a43eed34-f39b-481a-957b-ea8b8e4696da",
   "metadata": {},
   "source": [
    "### (e) Resuelve el mismo sistema usando la funcion ́solve del paquete numpy y verifica que obtengas la misma respuesta, para cualquier otro sistema que propongas."
   ]
  },
  {
   "cell_type": "code",
   "execution_count": 93,
   "id": "521f7b0a-777d-4fc6-9c2c-f4175051cded",
   "metadata": {},
   "outputs": [
    {
     "name": "stdout",
     "output_type": "stream",
     "text": [
      "Sistema de ecuaciones:\n",
      "Matriz A:\n",
      "[[ 2.  1.  4.  1.]\n",
      " [ 3.  4. -1. -1.]\n",
      " [ 1. -4.  1.  5.]\n",
      " [ 2. -2.  1.  3.]]\n",
      "Vector b:\n",
      "[-4.  3.  9.  7.]\n",
      "Solución:\n",
      "[ 2. -1. -2.  1.]\n"
     ]
    }
   ],
   "source": [
    "matriz = np.array([[ 2,  1,  4,  1 ],\n",
    "                   [ 3,  4, -1, -1 ],\n",
    "                   [ 1, -4,  1,  5 ],\n",
    "                   [ 2, -2,  1,  3 ]], dtype=float)\n",
    "\n",
    "vector = np.array([-4, 3, 9, 7], dtype=float)\n",
    "\n",
    "# Utilizamos la función solve de NumPy para resolver el sistema de ecuaciones Ax = b\n",
    "solucion = np.linalg.solve(matriz, vector)\n",
    "\n",
    "print(f'Sistema de ecuaciones:\\nMatriz A:\\n{matriz}\\n'\n",
    "      f'Vector b:\\n{vector}\\n'\n",
    "      f'Solución:\\n{solucion}')"
   ]
  },
  {
   "cell_type": "markdown",
   "id": "225c3b7d-ca40-4a47-b3b5-c122d1850ede",
   "metadata": {},
   "source": [
    "### 4. Pozo cuántico asimétrico (valor: 3 puntos).\n",
    "### La mecánica cuántica se puede formular como un problema matricial y resolverse en una computadora usando metodos de álgebra lineal. Supongamos, por ejemplo, que tenemos una partícula de masa M en un pozo cuantico unidimensional de ancho L, pero no un pozo cuadrado como los ejemplos que probablemente hayas visto antes. Supongamos en cambio que el potencial V(x) varía de alguna manera dentro del pozo:\n",
    "### No es posible resolver analíticamente este problema de forma general, pero podemos resolverlo en la computadora.\n",
    "### En un estado puro de energía E, la parte espacial de la función de onda obedece a la ecuación de Schrodinger independiente del tiempo Hψ(x) = Eψ(x), donde el operador hamiltoniano H está dado por:\n",
    "$$\n",
    "\\hat{H} = -\\frac{\\hbar^2}{2M} \\frac{d^2}{dx^2} + V(x)\n",
    "$$\n",
    "### Para simplificar, supongamos que las paredes del pozo son infinitamente altas, de modo que la función de onda es cero fuera del pozo, lo que significa que debe ir a cero en x = 0 y x = L. En ese caso, la función de onda se puede expresar como una serie sinusoidal de Fourier de la siguiente forma:\n",
    "$$\n",
    "\\psi(x) = \\sum_{n=1}^{\\infty} \\psi_n \\sin\\left( \\frac{n\\pi x}{L} \\right)\n",
    "$$\n",
    "### donde ψ1, ψ2, . . . son los coeficientes de Fourier.\n",
    "### (a) Observando que, para m, n enteros positivos\n",
    "$$\n",
    "\\int_0^L \\sin\\left( \\frac{m\\pi x}{L} \\right) \\sin\\left( \\frac{n\\pi x}{L} \\right) dx = \n",
    "\\begin{cases}\n",
    "\\frac{L}{2}, & \\text{si } m = n, \\\\\n",
    "0, & \\text{de lo contrario}.\n",
    "\\end{cases}\n",
    "$$\n",
    "### demuestra que la ecuacion de Schrodinger  ̈Hψ = Eψ implica que:\n",
    "$$\n",
    "\\sum_{n=1}^{\\infty} \\psi_n \\int_0^L \\sin\\left( \\frac{m\\pi x}{L} \\right) \\hat{H} \\sin\\left( \\frac{n\\pi x}{L} \\right) dx = \\frac{1}{2} L E \\psi_m\n",
    "$$\n",
    "### Así, definiendo una matriz H con elementos:\n",
    "$$\n",
    "H_{mn} = \\frac{2}{L} \\int_0^L \\sin\\left( \\frac{m\\pi x}{L} \\right)\n",
    "\\hat{H} \\sin\\left( \\frac{n\\pi x}{L} \\right) dx \\\\\n",
    "$$\n",
    "$$\n",
    "= \\frac{2}{L} \\int_0^L \\sin\\left( \\frac{m\\pi x}{L} \\right)\n",
    "\\left( -\\frac{\\hbar^2}{2M} \\frac{d^2}{dx^2} + V(x) \\right)\n",
    "\\sin\\left( \\frac{n\\pi x}{L} \\right) dx\n",
    "$$\n",
    "### demuestra que la ecuacion de Schrodinger se puede escribir en forma matricial como Hψ = Eψ, donde ψ es el vector (ψ1, ψ2, . . .). Por lo tanto, ψ es un vector propio de la matriz hamiltoniana H con valor propio E. Si podemos calcular los valores propios de esta matriz, entonces conoceremos las energías permitidas de la partícula en el pozo."
   ]
  },
  {
   "cell_type": "markdown",
   "id": "e8edd24c-927e-4a85-9e8c-e5c6c1d76069",
   "metadata": {},
   "source": [
    "### (b) Para el caso V(x) = ax/L, evalua la integral en Hmn analíticamente y encuentra una expresión general para el elemento de la matriz Hmn. Demuestra que la matriz es real y simétrica. Probablemente te resulte útil saber que:\n",
    "$$\n",
    "\\int_0^L x \\sin\\left( \\frac{m\\pi x}{L} \\right) \\sin\\left( \\frac{n\\pi x}{L} \\right) dx =\n",
    "\\begin{cases}\n",
    "0, & \\text{si } m \\ne n \\text{ y ambos son pares o impares}, \\\\\n",
    "-\\dfrac{4L^2}{\\pi^2} \\cdot \\dfrac{mn}{(m^2 - n^2)^2}, & \\text{si } m \\ne n \\text{ y uno es par y el otro impar}, \\\\\n",
    "\\dfrac{L^2}{4}, & \\text{si } m = n.\n",
    "\\end{cases}\n",
    "$$\n",
    "### Escribe un programa para evaluar tu expresión para  Hmn con m y n arbitrarios; cuando la partícula en el pozo es un electron, el pozo tiene un ancho 5  A y a = 10 eV. (La masa y la carga de un electron son 9.1094 × 10−31 kg y 1.6022 × 10−19 C respectivamente.)"
   ]
  },
  {
   "cell_type": "markdown",
   "id": "dca6eaac-13d5-4b2a-b00b-82c55d18a044",
   "metadata": {},
   "source": [
    "#### La expresión para Hmn sustituyendo V(x)=ax/L queda como:\n",
    "$$\n",
    "H_{mn}=\\frac{2}{L}\\int_0^Lsen(\\frac{m\\pi x}{L})[-\\frac{\\hbar^2}{2M}\\frac{d^2}{dx^2}+ \\frac{ax}{L}]sen(\\frac{n\\pi x}{L}) dx\n",
    "$$\n",
    "#### Desarrollando el integrando tendremos:\n",
    "$$\n",
    "H_{mn}=\\frac{2}{L}\\int_0^Lsen(\\frac{m\\pi x}{L})[\\frac{\\hbar^2n^2\\pi ^2}{2ML^2}sen(\\frac{n\\pi x}{L})+ \\frac{ax}{L}sen(\\frac{n\\pi x}{L})] dx\n",
    "$$\n",
    "#### Seprando en dos integrales tendremos:\n",
    "$$\n",
    "H_{mn}=\\frac{2}{L}\\left(\\int_0^L\\frac{\\hbar^2n^2\\pi ^2}{2ML^2}sen(\\frac{m\\pi x}{L})sen(\\frac{n\\pi x}{L})dx + \\int_0^L \\frac{ax}{L}sen(\\frac{m\\pi x}{L}) sen(\\frac{n\\pi x}{L})dx\\right)\n",
    "$$\n",
    "$$\n",
    "H_{mn}=\\frac{2}{L}\\left(\\frac{\\hbar^2n^2\\pi ^2}{2ML^2}\\int_0^Lsen(\\frac{m\\pi x}{L})sen(\\frac{n\\pi x}{L})dx + \\frac{a}{L}\\int_0^Lxsen(\\frac{m\\pi x}{L}) sen(\\frac{n\\pi x}{L})dx\\right)\n",
    "$$\n",
    "#### Y recordando las propiedades señaladas del inciso anterior y de este, Hmn queda así:\n",
    "$$\n",
    "H_{mn}=\\frac{2}{L}\\left(\\frac{\\hbar^2n^2\\pi ^2}{2ML^2}\\left( \\begin{cases}\n",
    "\\frac{L}{2}, & \\text{si } m = n, \\\\\n",
    "0, & \\text{de lo contrario}.\n",
    "\\end{cases}\\right)    +     \\frac{a}{L}\\left(\\begin{cases}\n",
    "0, & \\text{si } m \\ne n \\text{ y ambos son pares o impares}, \\\\\n",
    "-\\dfrac{2L^2}{\\pi^2} \\cdot \\dfrac{mn}{(m^2 - n^2)^2}, & \\text{si } m \\ne n \\text{ y uno es par y el otro impar}, \\\\\n",
    "\\dfrac{L^2}{4}, & \\text{si } m = n.\n",
    "\\end{cases}\\right)\\right)\n",
    "$$\n",
    "#### Si consideramos el caso para m=n, tendremos lo siguiente:\n",
    "$$\n",
    "H_{mn}=\\frac{2}{L}\\left(\\frac{\\hbar^2n^2\\pi ^2}{2ML^2} \\frac{L}{2}+ \\frac{aL^2}{4L}\\right)\n",
    "$$\n",
    "$$\n",
    "H_{mn}=\\frac{2}{L}\\left(\\frac{\\hbar^2n^2\\pi ^2}{4ML}+ \\frac{aL}{4}\\right)\n",
    "$$\n",
    "$$\n",
    "H_{mn}=\\frac{\\hbar^2n^2\\pi ^2}{2ML^2}+ \\frac{a}{2}\n",
    "$$\n",
    "#### Mientras que si consideramos que m y n son distintos con ambos pares o impares, tendremos:\n",
    "$$\n",
    "H_{mn}=0\n",
    "$$\n",
    "#### Y si consideramos el caso donde son diferentes pero uno es par y el otor impar:\n",
    "$$\n",
    "H_{mn}\\frac{2}{L}\\frac{a}{L}\\left(-\\dfrac{4L^2}{\\pi^2}\\dfrac{mn}{(m^2 - n^2)^2}\\right)\n",
    "$$\n",
    "\n",
    "\n",
    "#### Notemos que Hmn es un valor real sin importar el caso que se tenga para m y n, y dado que Hmn es cualquier componente de la matriz H, podemos concluir que la matriz es real. \n",
    "#### Por otro lado, "
   ]
  },
  {
   "cell_type": "code",
   "execution_count": 98,
   "id": "cd8ae9c3-9868-4e7a-977d-a83fc3b745d2",
   "metadata": {},
   "outputs": [],
   "source": [
    "#Para el caso que estamos trabajndi\n",
    "def Hmn(m,n): #definimos la función que nos calcula Hmn en función de m y n \n",
    "    if type(m)!= int or type(n)!=int or m<0 or n<0: #este if es para el caso en que m o n no sean enteros positivos. Le señala al usuario lo anterior\n",
    "        return 'm y n deben ser números enteros positivos.'\n",
    "    \n",
    "\n",
    "    a=1.6022e-18 #J\n",
    "    M= 9.1094e-31 #kg\n",
    "    L=5e-10 #m\n",
    "    hbarra=1.054571817e-34 #Js\n",
    "    \n",
    "    if m==n: #caso para cuando m es igual que n\n",
    "        return hbarra**2*n**2*np.pi**2/(2*M*L**2) + (a/2)\n",
    "    elif m!=n and n%2==0 and m%2==0: #caso para cuando m y n son distintos y ambos son pares\n",
    "        return 0\n",
    "    elif m!=n and n%2==1 and m%2==1:  #caso para cuando m y n son distintos y ambos son impares\n",
    "        return 0\n",
    "    else: #este es el caso para cuando m y n son distintos y uno es par y el otro impar. \n",
    "        return (-8*a/np.pi**2)*(m*n/(m**2-n**2)**2)\n"
   ]
  },
  {
   "cell_type": "code",
   "execution_count": 100,
   "id": "cb73b288-ead9-47ab-9924-1270916e7bfc",
   "metadata": {},
   "outputs": [
    {
     "name": "stdin",
     "output_type": "stream",
     "text": [
      "Ingresa el valor de m:  2\n",
      "Ingresa el valor de n:  4\n"
     ]
    },
    {
     "name": "stdout",
     "output_type": "stream",
     "text": [
      "El valor de Hmn es:  0\n"
     ]
    }
   ],
   "source": [
    "m=int(input('Ingresa el valor de m: ')) #Le pide al ussuario que ingrese os valores de m y n y los convierte en enteros\n",
    "n=int(input('Ingresa el valor de n: '))\n",
    "\n",
    "print('El valor de Hmn es: ', Hmn(m,n)) "
   ]
  },
  {
   "cell_type": "markdown",
   "id": "92d9a8a7-808a-41f3-907b-453448f0b482",
   "metadata": {},
   "source": [
    "### (c) En teoría, la matriz H es infinitamente grande, por lo que no podemos calcular todos sus valores propios. Pero podemos obtener una solución bastante precisa de los primeros recortando la matriz. Modifica el programa que escribiste para el inciso anterior para crear una matriz de 10 × 10 de los elementos de H (i.e. m, n = 10). Calcula los valores propios de esta matriz usando la función apropiada de la biblioteca numpy.linalg y entonces imprime (en unidades de electron-volts) los primeros diez niveles de energía del pozo cuántico, dentro de esta aproximación. Deberías encontrar, por ejemplo, que la energía del estado fundamental del sistema es de alrededor de 5, 84 eV. (Hint: ten en cuenta que los indices matriciales en Python comienzan en cero, mientras que los  ́ındices en expresiones algebraicas estandar, como las anteriores, comienzan en uno. Ten en cuenta esto en tu programa)."
   ]
  },
  {
   "cell_type": "code",
   "execution_count": 102,
   "id": "98ca2f89-01d1-42d8-888b-4bdae39fc7a0",
   "metadata": {},
   "outputs": [
    {
     "name": "stdout",
     "output_type": "stream",
     "text": [
      "Las energías de los 10 primeros estados son:\n",
      " [  5.83634278  11.18099573  18.66267191  29.14380498  42.65445998\n",
      "  59.18437179  78.72815384 101.28390796 126.84939113 155.55286833]\n",
      "El estado de energía fundamental es:  5.836342777696578 eV\n"
     ]
    }
   ],
   "source": [
    "def Hmn(m,n): #definimos la función que nos calcula Hmn en función de m y n \n",
    "    if type(m)!= int or type(n)!=int or m<0 or n<0: #este if es para el caso en que m o n no sean enteros positivos\n",
    "        return 'm y n deben ser números enteros positivos menores o iguales a 10.'\n",
    "\n",
    "    a = 1.6022e-18 #J\n",
    "    M= 9.1094e-31 #kg\n",
    "    L=5e-10 #m\n",
    "    hbarra=1.054571817e-34 #Js\n",
    "    H=np.zeros((m,n)) #Generamos la matriz llena de 0 y a continuación se empieza a rellenar según sea el caso\n",
    "    for i in range(1,m+1): #recorremos las filas\n",
    "        for j in range(1,n+1): #recorremos las columnas\n",
    "            if i==j: #caso para cuando i es igual que j\n",
    "                H[i-1,j-1]=hbarra**2*j**2*np.pi**2/(2*M*L**2) + (a/2)\n",
    "            \n",
    "            elif i!=j and ((i % 2 == 0 and j % 2 != 0) or (i % 2 != 0 and j % 2 == 0)): #caso para cuando i y j son distintos y uno es par y el otro impar. \n",
    "                H[i-1,j-1] =(-8*a/np.pi**2)*(i*j/(i**2-j**2)**2)\n",
    "            #en este caso omitimos poner los otros casos porque  para esos Hmn=0, y como la matriz generada es de puro ceros, entonces ya \n",
    "            #no hay nada que sustituir ahí\n",
    "    return H\n",
    "\n",
    "H10=Hmn(10,10) #obtenemos la matriz de 10x10\n",
    "eigenvalores=np.linalg.eigvals(H10) #obtenemos los eigenvalores de la matriz\n",
    "energias=eigenvalores/1.6022e-19 #convertimos las energías a eV\n",
    "energias.sort() #acomodamos las energías\n",
    "print('Las energías de los 10 primeros estados son:\\n', energias)\n",
    "print('El estado de energía fundamental es: ', energias.min(), 'eV')\n"
   ]
  },
  {
   "cell_type": "markdown",
   "id": "143354b7-e04e-4c47-a3a4-1e9f6ca667a4",
   "metadata": {},
   "source": [
    "### (d) Modifica tu programa para usar una matriz de 100 × 100 y calcula nuevamente los primeros diez valores propios de energía. Comparando con los valores que calculaste en el inciso (c), ¿que concluyes sobre la precisión del cálculo?\n"
   ]
  },
  {
   "cell_type": "code",
   "execution_count": 105,
   "id": "c176895b-7470-474c-a812-4ad14bb56d64",
   "metadata": {},
   "outputs": [
    {
     "name": "stdout",
     "output_type": "stream",
     "text": [
      "Las energías de los 100 primeros estados son:\n",
      " [  5.83634238  11.1809944   18.66267004  29.14379618  42.65445086\n",
      "  59.18431921  78.72810201 101.28327702 126.84855878 155.42324375]\n",
      "El estado de energía fundamental es:  5.836342377005791 eV\n"
     ]
    }
   ],
   "source": [
    "#Simplemente evaluammos la función generada anteriormente en m=100 y n=100. Pero por el caso de que se ejecute esta celda antes que la del inciso c, \n",
    "#porcederé a copiar la función anterior aquí\n",
    "def Hmn(m,n): #definimos la función que nos calcula Hmn en función de m y n \n",
    "    if type(m)!= int or type(n)!=int or m<0 or n<0: #este if es para el caso en que m o n no sean enteros positivos\n",
    "        return 'm y n deben ser números enteros positivos menores o iguales a 10.'\n",
    "\n",
    "    a = 1.6022e-18 #J\n",
    "    M= 9.1094e-31 #kg\n",
    "    L=5e-10 #m\n",
    "    hbarra=1.054571817e-34 #Js\n",
    "    H=np.zeros((m,n)) #Generamos la matriz llena de 0 y a continuación se empieza a rellenar según sea el caso\n",
    "    for i in range(1,m+1): #recorremos las filas\n",
    "        for j in range(1,n+1): #recorremos las columnas\n",
    "            if i==j: #caso para cuando i es igual que j\n",
    "                H[i-1,j-1]=hbarra**2*j**2*np.pi**2/(2*M*L**2) + (a/2)\n",
    "            \n",
    "            elif i!=j and ((i % 2 == 0 and j % 2 != 0) or (i % 2 != 0 and j % 2 == 0)): #caso para cuando i y j son distintos y uno es par y el otro impar. \n",
    "                H[i-1,j-1] =(-8*a/np.pi**2)*(i*j/(i**2-j**2)**2)\n",
    "            #en este caso omitimos poner los otros casos porque  para esos Hmn=0, y como la matriz generada es de puro ceros, entonces ya \n",
    "            #no hay nada que sustituir ahí\n",
    "    return H\n",
    "H100=Hmn(100,100)\n",
    "eigenvalores=np.linalg.eigvals(H100) #obtenemos los eigenvalores de la matriz\n",
    "energias=eigenvalores/1.6022e-19 #convertimos las energías a eV\n",
    "energias.sort() #acomodamos las energías\n",
    "\n",
    "print('Las energías de los 100 primeros estados son:\\n', energias[:10])\n",
    "print('El estado de energía fundamental es: ', energias.min(), 'eV')\n",
    "\n",
    "#Al comparar las energías con las obtenidas en el inciso c, notamos que las energías en este inciso son menores, lo cual nos indica que la precisión\n",
    "#es mejor, ya que sabemos que los valores aproximados para los estados de energía siempre deben ir a la baja deben ir haciéndose más pequeños para \n",
    "#acercarnos al valor real.\n"
   ]
  },
  {
   "cell_type": "markdown",
   "id": "7adcbffe-509b-4ad2-8c35-5c89321e97f7",
   "metadata": {},
   "source": [
    "### (e) Ahora modifica tu programa, una vez más, para calcular la función de onda ψ(x) para el estado fundamental y los dos primeros estados excitados del pozo. Utiliza tus resultados para hacer una gráfica con tres curvas que muestren la densidad de probabilidad |ψ(x)|^2 en función de x para cada uno de estos tres estados. Presta mucha atencion a la normalización de la función de onda: debe satisfacer la condición:\n",
    "$$ \\int_0^L|ψ(x)|^2 dx = 1\n",
    "$$\n",
    "### ¿Esto es cierto para tu funcion de onda?"
   ]
  },
  {
   "cell_type": "code",
   "execution_count": 108,
   "id": "49894405-41b5-4b57-870b-849609d4924b",
   "metadata": {},
   "outputs": [
    {
     "data": {
      "image/png": "[encoded data removed]",
      "text/plain": [
       "<Figure size 1000x600 with 1 Axes>"
      ]
     },
     "metadata": {},
     "output_type": "display_data"
    }
   ],
   "source": [
    "import numpy as np\n",
    "import matplotlib.pyplot as plt\n",
    "\n",
    "# Usamos la matriz ya definida H100 y los eigenvalores ya ordenados\n",
    "eigenvalores, eigenvectores = np.linalg.eigh(H100)  # eigenvectores[:,k] es el k-ésimo vector propio\n",
    "energias = eigenvalores / 1.6022e-19\n",
    "energias.sort()\n",
    "\n",
    "L = 5e-10\n",
    "x = np.linspace(0, L, 1000)  # Puntos del espacio\n",
    "\n",
    "# Funciones de onda para los 3 primeros estados\n",
    "psi = []\n",
    "for k in range(3):\n",
    "    psi_k = np.zeros_like(x)\n",
    "    for n in range(1, 101):\n",
    "        coef = eigenvectores[n-1, k]\n",
    "        psi_k += coef * np.sin(n * np.pi * x / L)\n",
    "    # Normalizamos\n",
    "    norm = np.sqrt(np.trapz(np.abs(psi_k)**2, x))\n",
    "    psi.append(psi_k / norm)\n",
    "\n",
    "# Graficamos la densidad de probabilidad\n",
    "plt.figure(figsize=(10, 6))\n",
    "for k in range(3):\n",
    "    plt.plot(x * 1e9, np.abs(psi[k])**2, label=f'Estado {k} (E={energias[k]:.2f} eV)')\n",
    "plt.xlabel('x (nm)')\n",
    "plt.ylabel(r'$|\\psi(x)|^2$')\n",
    "plt.title('Densidad de probabilidad de los 3 primeros estados')\n",
    "plt.legend()\n",
    "plt.grid(True)\n",
    "plt.show()"
   ]
  },
  {
   "cell_type": "code",
   "execution_count": null,
   "id": "03885fd0-dd81-4947-9037-35fd5b1e8fce",
   "metadata": {},
   "outputs": [],
   "source": []
  }
 ],
 "metadata": {
  "kernelspec": {
   "display_name": "Python 3 (ipykernel)",
   "language": "python",
   "name": "python3"
  },
  "language_info": {
   "codemirror_mode": {
    "name": "ipython",
    "version": 3
   },
   "file_extension": ".py",
   "mimetype": "text/x-python",
   "name": "python",
   "nbconvert_exporter": "python",
   "pygments_lexer": "ipython3",
   "version": "3.12.4"
  }
 },
 "nbformat": 4,
 "nbformat_minor": 5
}
